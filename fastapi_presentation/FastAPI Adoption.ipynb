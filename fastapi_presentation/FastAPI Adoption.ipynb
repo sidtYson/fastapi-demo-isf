{
 "cells": [
  {
   "cell_type": "markdown",
   "metadata": {},
   "source": [
    "# Why FastAPI?"
   ]
  },
  {
   "cell_type": "markdown",
   "metadata": {
    "heading_collapsed": true
   },
   "source": [
    "## Fast = Better Performance"
   ]
  },
  {
   "cell_type": "markdown",
   "metadata": {
    "hidden": true
   },
   "source": [
    "<img src=\"https://miro.medium.com/max/875/0*VU3prvklaeTbZvDg.png\">"
   ]
  },
  {
   "cell_type": "markdown",
   "metadata": {},
   "source": [
    "## Simple to Write = Less Errors"
   ]
  },
  {
   "cell_type": "markdown",
   "metadata": {},
   "source": [
    "FastAPI is simple to write, Below is the hello world example in FastAPI,\n",
    "\n",
    "```python\n",
    "from fastapi import FastAPI\n",
    "\n",
    "app = FastAPI()\n",
    "\n",
    "@app.get(\"/\")\n",
    "def index():\n",
    "    return {\"Hello\": \"World\"}\n",
    "```"
   ]
  },
  {
   "cell_type": "markdown",
   "metadata": {},
   "source": [
    "The simplicity is comparable to Flask, Flask being a microframework is the simplest to write.\n",
    "\n",
    "```python\n",
    "from flask import Flask, jsonify\n",
    "\n",
    "app=Flask(__name__)\n",
    "\n",
    "@app.route('/', methods=['GET'])\n",
    "def index():\n",
    "    return jsonify({\"Hello\": \"World\"})\n",
    "```"
   ]
  },
  {
   "cell_type": "markdown",
   "metadata": {
    "heading_collapsed": true
   },
   "source": [
    "## Built-in Documentation = Better Collaboration"
   ]
  },
  {
   "cell_type": "markdown",
   "metadata": {
    "hidden": true
   },
   "source": [
    "[Documentation Demo](http://127.0.0.1:8000/docs#/)"
   ]
  },
  {
   "cell_type": "markdown",
   "metadata": {
    "heading_collapsed": true
   },
   "source": [
    "## Pydantic Validations = Easy Validations"
   ]
  },
  {
   "cell_type": "markdown",
   "metadata": {
    "hidden": true
   },
   "source": [
    "Validations are supported in FastAPI through Pydantic, Its simple.\n",
    "\n",
    "```python\n",
    "class StudentSchema(BaseModel):\n",
    "    fullname: str = Field(...)\n",
    "    email: EmailStr = Field(...)\n",
    "    course_of_study: str = Field(...)\n",
    "    year: int = Field(..., gt=0, lt=9)\n",
    "    gpa: float = Field(..., le=4.0)\n",
    "\n",
    "    class Config:\n",
    "        schema_extra = {\n",
    "            \"example\": {\n",
    "                \"fullname\": \"John Doe\",\n",
    "                \"email\": \"jdoe@x.edu.ng\",\n",
    "                \"course_of_study\": \"Water resources engineering\",\n",
    "                \"year\": 2,\n",
    "                \"gpa\": \"3.0\",\n",
    "            }\n",
    "        }\n",
    "```\n",
    "\n",
    "With this we can achieve validations on all the given input parameters to Student. Let us go through the quick [Demo](http://127.0.0.1:8000/docs#/)\n",
    "\n",
    "One pain point to this is adding custom error messages are hard with this approach."
   ]
  },
  {
   "cell_type": "markdown",
   "metadata": {
    "heading_collapsed": true
   },
   "source": [
    "## Asynchronous = Faster IO"
   ]
  },
  {
   "cell_type": "markdown",
   "metadata": {
    "hidden": true
   },
   "source": [
    "With FastAPI the we can use the python keywords for asynchronous requests, response with async, await. This increases the speed of requests significantly, Consider the below example where we are getting top reddit comments. Since the **`get_reddit_top`** function can run in parallel in ***async*** mode, the request is much more faster than sequential mode."
   ]
  },
  {
   "cell_type": "markdown",
   "metadata": {
    "hidden": true
   },
   "source": [
    "```python\n",
    "@app.get(\"/reddit\", tags=['Asynchronous Data Fetch'])\n",
    "async def get_reddit_data_api() -> dict:\n",
    "    start_time: float = time.time()\n",
    "    client: ClientSession = aiohttp.ClientSession()\n",
    "    data: dict = {}\n",
    "\n",
    "    await asyncio.gather(\n",
    "        get_reddit_top('python', client, data),\n",
    "        get_reddit_top('programming', client, data),\n",
    "        get_reddit_top('compsci', client, data),\n",
    "    )\n",
    "    await client.close()\n",
    "\n",
    "    print(\"Got reddit data in ---\" + str(time.time() - start_time) + \"seconds ---\")\n",
    "    return data\n",
    "```"
   ]
  },
  {
   "cell_type": "markdown",
   "metadata": {
    "heading_collapsed": true
   },
   "source": [
    "# Adopting FastAPI for backend"
   ]
  },
  {
   "cell_type": "markdown",
   "metadata": {
    "heading_collapsed": true,
    "hidden": true
   },
   "source": [
    "## Easy to Switch"
   ]
  },
  {
   "cell_type": "markdown",
   "metadata": {
    "hidden": true
   },
   "source": [
    "Ease of adopting FastAPI if using Flask already,\n",
    "\n",
    "**Flask code**\n",
    "\n",
    "<img src=\"https://miro.medium.com/max/3000/1*-KShVCHml6AvnwTJH1KAsA.png\">\n",
    "\n",
    "\n",
    "**FastAPI code**\n",
    "\n",
    "<img src=\"https://miro.medium.com/max/875/1*QpjFIdxUI-AczgYhkUv0kQ.png\">\n"
   ]
  },
  {
   "cell_type": "markdown",
   "metadata": {
    "heading_collapsed": true,
    "hidden": true
   },
   "source": [
    "## Backend Features"
   ]
  },
  {
   "cell_type": "markdown",
   "metadata": {
    "hidden": true
   },
   "source": [
    "* **Database Support**\n",
    "    * **Supports SQL** - SQLAlchemy ORM\n",
    "    * **Supports NoSQL** - Use standard packages like Flask does\n",
    "\n",
    "\n",
    "* **Security**\n",
    "    * Oauth2, basic auth, API, JWT etc.\n",
    "\n",
    "\n",
    "* **Testing**\n",
    "    * Easy Testing using TestClient\n",
    "    ```python\n",
    "        client = TestClient(app)\n",
    "        def test_read_main():\n",
    "            response = client.get(\"/\")\n",
    "            assert response.status_code == 200\n",
    "            assert response.json() == {\"msg\": \"Hello World\"}\n",
    "    ```\n",
    "* **Central Exception Handling**\n",
    "\n",
    "    Adding user defined exceptions with ***`@app.exception_handler`***\n",
    "\n",
    "    ```python\n",
    "    @app.exception_handler(SomeException)\n",
    "    async def http_exception_handler(request: Request, exc: SomeException) -> PlainTextResponse:\n",
    "        return PlainTextResponse(str(exc.detail), status_code=exc.status_code)\n",
    "\n",
    "    async def request_exception_handler(request: Request, exc: SomeOtherException) -> PlainTextResponse: \n",
    "    return PlainTextResponse(str(exc.detail),status_code=exc.status_code)\n",
    "\n",
    "    app.add_exception_handler(exc_class_or_status_code=SomeOtherException,\n",
    "    handler=request_exception_handler)\n",
    "    ```\n",
    "    \n",
    "* **Dependency Injection**\n",
    "\n",
    "* **Easy Deployment**"
   ]
  },
  {
   "cell_type": "markdown",
   "metadata": {
    "heading_collapsed": true
   },
   "source": [
    "# Drawbacks"
   ]
  },
  {
   "cell_type": "markdown",
   "metadata": {
    "hidden": true
   },
   "source": [
    "* No support for user defined validation error messages\n",
    "* Can become crowded if a standard not followed properly\n",
    "* Inferior admin page than Django\n",
    "* Performance gain might not be a requirement for Large Scale Applications\n",
    "* Although improved flexibility increases development speed, may increase maintanance effort"
   ]
  }
 ],
 "metadata": {
  "kernelspec": {
   "display_name": "Python 3",
   "language": "python",
   "name": "python3"
  },
  "language_info": {
   "codemirror_mode": {
    "name": "ipython",
    "version": 3
   },
   "file_extension": ".py",
   "mimetype": "text/x-python",
   "name": "python",
   "nbconvert_exporter": "python",
   "pygments_lexer": "ipython3",
   "version": "3.8.5"
  },
  "toc": {
   "base_numbering": 1,
   "nav_menu": {},
   "number_sections": true,
   "sideBar": true,
   "skip_h1_title": false,
   "title_cell": "Table of Contents",
   "title_sidebar": "Contents",
   "toc_cell": false,
   "toc_position": {},
   "toc_section_display": true,
   "toc_window_display": false
  }
 },
 "nbformat": 4,
 "nbformat_minor": 4
}
